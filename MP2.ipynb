{
 "cells": [
  {
   "cell_type": "markdown",
   "id": "38e8f04b-c337-40cb-b49a-02dcd3be4e5f",
   "metadata": {},
   "source": [
    "# Machine Problem 2"
   ]
  },
  {
   "cell_type": "markdown",
   "id": "22fefb2f-f95d-4f6b-8dc7-502c8eb2c9c5",
   "metadata": {},
   "source": [
    "Instructions: Implement the RMSProp and Adam (as discussed in the video lectures). You may use the helper functions provided below. "
   ]
  },
  {
   "cell_type": "markdown",
   "id": "9e5faa14-733f-4b9c-8d0a-711992c45c34",
   "metadata": {
    "tags": []
   },
   "source": [
    "## Helper Functions"
   ]
  },
  {
   "cell_type": "code",
   "execution_count": null,
   "id": "123d0aef-3fa1-4fef-b92d-d31a2d6658ff",
   "metadata": {},
   "outputs": [],
   "source": [
    "using ForwardDiff\n",
    "using Plots\n",
    "using Symbolics\n",
    "\n",
    "### helper functions\n",
    "function optimize(f, params)\n",
    "    w = rand(p)\n",
    "    for t in 1:N\n",
    "        x = X[t, :]\n",
    "    end\n",
    "end\n",
    "\n",
    "function compute_gradient(f, x)\n",
    "    grad = ForwardDiff.gradient(f, x)\n",
    "    return grad\n",
    "end\n",
    "\n",
    "function symbolic_2dgradient(f)\n",
    "\n",
    "    @variables x y\n",
    "\n",
    "    D_x = Differential(x)\n",
    "    D_y = Differential(y)\n",
    "\n",
    "    df_dx = expand_derivatives(D_x(f(x, y)))  # Partial derivative w.r.t. x\n",
    "    df_dy = expand_derivatives(D_y(f(x, y)))  # Partial derivative w.r.t. y\n",
    "\n",
    "    println(\"∂f/∂x: $df_dx\")\n",
    "    println(\"∂f/∂y: $df_dy\")\n",
    "\n",
    "end\n",
    "\n",
    "### learning algorithms\n",
    "function sgd_momentum(obj_func, num_params, start, γ=0.9, η=0.001, xrange=[-10,10], yrange=[-10,10], levels=200, error=0.00001)\n",
    "\n",
    "    θ = start\n",
    "    history = θ\n",
    "    grad = compute_gradient(obj_func, θ)\n",
    "\n",
    "    while abs(grad[1]) > error || abs(grad[2]) > error\n",
    "        # update this code block with rmsprop and adam\n",
    "        v = zeros(num_params)\n",
    "        grad = compute_gradient(obj_func, θ)\n",
    "        v = γ .* v + - η .* grad\n",
    "        θ = θ + v\n",
    "        history = hcat(history, θ)\n",
    "    end\n",
    "    \"\"\"\n",
    "        instead of updating the weight with the current gradient, consider the previous gradient\n",
    "    \"\"\"\n",
    "\n",
    "    return (round.(θ, digits=3), history)\n",
    "end\n",
    "\n",
    "### plotting\n",
    "\n",
    "function countour_plot(func, x_scatter, y_scatter, xrange=[-10,10], yrange=[-10,10], fill=false, levels=100)\n",
    "    # used to keep track of how each weight converges. points start on the outside and converge towards the center (minimum point)\n",
    "    # x_scatter -> x variables of history\n",
    "    # y_scatter -> y variables of history\n",
    "    # levels -> number of lines to draw\n",
    "\n",
    "    x_vals = range(xrange[1], xrange[2], length = 100)\n",
    "    y_vals = range(yrange[1], yrange[2], length = 100)\n",
    "\n",
    "    z_vals = [func(x, y) for y in y_vals, x in x_vals]\n",
    "    Plots.contour(x_vals, y_vals, z_vals, levels = 50, xlabel = \"x\", ylabel = \"y\", fill=fill)\n",
    "    plot!(x_scatter, y_scatter, color=:red, label=\"Trajectory\") # line plot instead of scatter plot\n",
    "    scatter!([x_scatter[1]], [y_scatter[1]], color=:black,label=\"Initial Solution\")\n",
    "    scatter!([x_scatter[end]], [y_scatter[end]], markershape=:utriangle, color=:black, label=\"Best Solution\")\n",
    "end\n",
    "\n",
    "### helper function to generate random starting values\n",
    "function random_start(start=-10.0, step=0.01, stop=10.0)\n",
    "    x = rand(start:step:stop, 2)\n",
    "    println(\"Starting Values: \" * string(x))\n",
    "    return x\n",
    "end"
   ]
  },
  {
   "cell_type": "markdown",
   "id": "39260048-57a2-44d5-98fa-ba2288c447a8",
   "metadata": {},
   "source": [
    "### You need to implement the benchmark functions below. You may refer to this page for reference: https://en.wikipedia.org/wiki/Test_functions_for_optimization"
   ]
  },
  {
   "cell_type": "markdown",
   "id": "366814d9",
   "metadata": {},
   "source": [
    "#### objective\n",
    "\n",
    "try to let the learning algorithms reach the optimal points of these benchmark functions\n",
    "#### Strategy\n",
    "\n",
    "1. define the benchmark function\n",
    "2. define the starting point (given by sir)\n",
    "3. use learning algorithm, given the benchmark function, starting point\n",
    "4. see if the starting point converges to one of the global minimum points (refer to wiki)\n",
    "\n",
    "-----\n",
    "#### Tasks\n",
    "1. implement benchmark functions\n",
    "2. implement learning algorithms\n",
    "3. determine the trajectory of each function using the given starting points (use contour_plot)\n",
    "4. determine the trajectory of each function using randomly generated starting points ()\n",
    "   \n",
    "---\n",
    "#### Tips\n",
    "- be careful for points that vanish - explode\n",
    "- beale function is very difficult - you may need to change learning rate and v to help the learning rate converge\n",
    "- be careful for when you get stuck at local minimums - gradient is 0, but there is a deeper trough based on the overall landscape\n",
    "  - this tells us that the function is stuck at a local minimum - the area has a lot of local minimums\n",
    "  - tune learning rate, change optimization functions\n",
    "----\n",
    "### question"
   ]
  },
  {
   "cell_type": "code",
   "execution_count": null,
   "id": "9335b1a2-e497-4890-81c0-e30f2069954c",
   "metadata": {},
   "outputs": [],
   "source": [
    "### Benchmark functions (for optimization algorithms)\n",
    "function beale_func(u)\n",
    "    x = u[1]\n",
    "    y = u[2]\n",
    "    return beale_func(x,y)\n",
    "end\n",
    "\n",
    "function beale_func(x,y)\n",
    "    return (1.5 - x + x*y)^2 + (2.25 - x + x*y^2)^2 + (2.625 - x + x*y^3)^2\n",
    "end\n",
    "\n",
    "function booth_func(u)\n",
    "\n",
    "    return nothing\n",
    "end\n",
    "\n",
    "function booth_func(x, y)\n",
    "    return nothing\n",
    "end\n",
    "function matyas_func(u)\n",
    "    return nothing\n",
    "end\n",
    "\n",
    "function matyas_func(x,y)\n",
    "    return nothing\n",
    "end\n",
    "\n",
    "function himmelblau_func(u)\n",
    "    return nothing\n",
    "end\n",
    "\n",
    "function himmelblau_func(x,y)\n",
    "    return nothing\n",
    "end\n",
    "\n",
    "function mccormick_func(u)\n",
    "    return nothing\n",
    "end\n",
    "\n",
    "function mccormick_func(x,y)\n",
    "    return nothing\n",
    "end\n",
    "\n",
    "function goldstein_price_func(x,y)\n",
    "    return nothing\n",
    "end\n",
    "\n",
    "function goldstein_price_func(u)\n",
    "    return nothing\n",
    "end\n",
    "\n",
    "function three_hump_camel_func(x,y)\n",
    "    return nothing\n",
    "end\n",
    "\n",
    "function three_hump_camel_func(u)\n",
    "    return nothing\n",
    "end"
   ]
  },
  {
   "cell_type": "markdown",
   "id": "af95d4af-55c1-42d7-b709-352ca9d43d2c",
   "metadata": {
    "tags": []
   },
   "source": [
    "## RMSProp"
   ]
  },
  {
   "cell_type": "code",
   "execution_count": null,
   "id": "b2b656f9-1a03-4f87-a949-abf93e85be9a",
   "metadata": {},
   "outputs": [],
   "source": [
    "### Implement the RMSProp here\n",
    "### learning algorithms\n",
    "function rmsprop(obj_func, num_params, start, γ=0.9, η=0.001, xrange=[-10,10], yrange=[-10,10], levels=200, error=0.00001)\n",
    "\n",
    "    θ = start\n",
    "    history = θ\n",
    "    grad = compute_gradient(obj_func, θ)\n",
    "\n",
    "    while abs(grad[1]) > error || abs(grad[2]) > error\n",
    "        # update this code block with rmsprop\n",
    "\n",
    "\n",
    "        # v = zeros(num_params)\n",
    "        # grad = compute_gradient(obj_func, θ)\n",
    "        # v = γ .* v + - η .* grad\n",
    "        # θ = θ + v\n",
    "        # history = hcat(history, θ)\n",
    "    end\n",
    "    \"\"\"\n",
    "        instead of updating the weight with the current gradient, consider the previous gradient\n",
    "    \"\"\"\n",
    "\n",
    "    return (round.(θ, digits=3), history)\n",
    "end"
   ]
  },
  {
   "cell_type": "markdown",
   "id": "1684ad0a-07b3-401b-a019-d409fdc77a73",
   "metadata": {},
   "source": [
    "Task 2. For each function, determine the trajectory of the algorithm given the following starting points"
   ]
  },
  {
   "cell_type": "code",
   "execution_count": null,
   "id": "b98a9151-9d76-4643-8db6-761ad3e06e51",
   "metadata": {},
   "outputs": [],
   "source": [
    "# start_1 = [10,-10];\n",
    "start_1 = [4, 1];\n",
    "start_2 = [-4, 4];\n",
    "start_3 = [0, 0];\n",
    "start_4 = [5,5];"
   ]
  },
  {
   "cell_type": "markdown",
   "id": "6d0a1e8a",
   "metadata": {},
   "source": [
    "### Beale Function"
   ]
  },
  {
   "cell_type": "code",
   "execution_count": null,
   "id": "82c23466",
   "metadata": {},
   "outputs": [],
   "source": [
    "func = beale_func"
   ]
  },
  {
   "cell_type": "code",
   "execution_count": null,
   "id": "0365ec99",
   "metadata": {},
   "outputs": [],
   "source": [
    "output = sgd_momentum(func, 2, start_1)\n",
    "endpoint = output[1]\n",
    "println(\"Best Point: \" * string(endpoint))\n",
    "history = output[2]\n",
    "countour_plot(func, history[1,:], history[2,:])\n",
    "# plot the optimal point for this function"
   ]
  },
  {
   "cell_type": "code",
   "execution_count": null,
   "id": "2ffe7556",
   "metadata": {},
   "outputs": [],
   "source": [
    "output = rmsprop(func, 2, start_2)\n",
    "endpoint = output[1]\n",
    "println(\"Best Point: \" * string(endpoint))\n",
    "history = output[2]\n",
    "countour_plot(func, history[1,:], history[2,:])\n"
   ]
  },
  {
   "cell_type": "code",
   "execution_count": null,
   "id": "7434adaa",
   "metadata": {},
   "outputs": [],
   "source": [
    "output = rmsprop(func, 2, start_3)\n",
    "endpoint = output[1]\n",
    "history = output[2]\n",
    "countour_plot(func, history[1,:], history[2,:])"
   ]
  },
  {
   "cell_type": "code",
   "execution_count": null,
   "id": "922d0678",
   "metadata": {},
   "outputs": [],
   "source": [
    "output = rmsprop(func, 2, start_4)\n",
    "endpoint = output[1]\n",
    "history = output[2]\n",
    "countour_plot(func, history[1,:], history[2,:])"
   ]
  },
  {
   "cell_type": "code",
   "execution_count": 54,
   "id": "3ae5b411",
   "metadata": {},
   "outputs": [],
   "source": [
    "# Testing Our Own Input:\n",
    "start = random_start()\n",
    "output = sgd_momentum(func, 2, start)\n",
    "endpoint = output[1]\n",
    "history = output[2]\n",
    "countour_plot(func, history[1,:], history[2,:])"
   ]
  },
  {
   "cell_type": "markdown",
   "id": "9d9f6365",
   "metadata": {},
   "source": [
    "### Booth Function"
   ]
  },
  {
   "cell_type": "code",
   "execution_count": null,
   "id": "74e518db",
   "metadata": {},
   "outputs": [],
   "source": [
    "func = booth_func"
   ]
  },
  {
   "cell_type": "code",
   "execution_count": null,
   "id": "0307ec6d",
   "metadata": {},
   "outputs": [],
   "source": [
    "output = rmsprop(func, 2, start_1)"
   ]
  },
  {
   "cell_type": "code",
   "execution_count": null,
   "id": "4c1aeccc",
   "metadata": {},
   "outputs": [],
   "source": [
    "output = rmsprop(func, 2, start_2)"
   ]
  },
  {
   "cell_type": "code",
   "execution_count": null,
   "id": "975349a8",
   "metadata": {},
   "outputs": [],
   "source": [
    "output = rmsprop(func, 2, start_3)"
   ]
  },
  {
   "cell_type": "code",
   "execution_count": null,
   "id": "1aa4a436",
   "metadata": {},
   "outputs": [],
   "source": [
    "output = rmsprop(func, 2, start_4)"
   ]
  },
  {
   "cell_type": "markdown",
   "id": "24c67533",
   "metadata": {},
   "source": [
    "### Matyas Function"
   ]
  },
  {
   "cell_type": "code",
   "execution_count": null,
   "id": "1858dacb",
   "metadata": {},
   "outputs": [],
   "source": []
  },
  {
   "cell_type": "code",
   "execution_count": null,
   "id": "35f4dfb8",
   "metadata": {},
   "outputs": [],
   "source": []
  },
  {
   "cell_type": "code",
   "execution_count": null,
   "id": "09779e63",
   "metadata": {},
   "outputs": [],
   "source": []
  },
  {
   "cell_type": "code",
   "execution_count": null,
   "id": "62e18781",
   "metadata": {},
   "outputs": [],
   "source": []
  },
  {
   "cell_type": "code",
   "execution_count": null,
   "id": "ecd5d533",
   "metadata": {},
   "outputs": [],
   "source": []
  },
  {
   "cell_type": "markdown",
   "id": "71dab5cd",
   "metadata": {},
   "source": [
    "### Himmelblau Function"
   ]
  },
  {
   "cell_type": "code",
   "execution_count": null,
   "id": "76a8ae3f",
   "metadata": {},
   "outputs": [],
   "source": []
  },
  {
   "cell_type": "code",
   "execution_count": null,
   "id": "a7d219db",
   "metadata": {},
   "outputs": [],
   "source": []
  },
  {
   "cell_type": "code",
   "execution_count": null,
   "id": "380c66f0",
   "metadata": {},
   "outputs": [],
   "source": []
  },
  {
   "cell_type": "code",
   "execution_count": null,
   "id": "6a95228c",
   "metadata": {},
   "outputs": [],
   "source": []
  },
  {
   "cell_type": "code",
   "execution_count": null,
   "id": "f8aea39b",
   "metadata": {},
   "outputs": [],
   "source": []
  },
  {
   "cell_type": "code",
   "execution_count": null,
   "id": "1135db2e",
   "metadata": {},
   "outputs": [],
   "source": []
  },
  {
   "cell_type": "markdown",
   "id": "ed726412",
   "metadata": {},
   "source": [
    "### Mccormick Function"
   ]
  },
  {
   "cell_type": "code",
   "execution_count": null,
   "id": "c0ef9fb4",
   "metadata": {},
   "outputs": [],
   "source": []
  },
  {
   "cell_type": "code",
   "execution_count": null,
   "id": "2a443ec1",
   "metadata": {},
   "outputs": [],
   "source": []
  },
  {
   "cell_type": "code",
   "execution_count": null,
   "id": "ad796973",
   "metadata": {},
   "outputs": [],
   "source": []
  },
  {
   "cell_type": "code",
   "execution_count": null,
   "id": "3b92b79d",
   "metadata": {},
   "outputs": [],
   "source": []
  },
  {
   "cell_type": "code",
   "execution_count": null,
   "id": "01f3b877",
   "metadata": {},
   "outputs": [],
   "source": []
  },
  {
   "cell_type": "markdown",
   "id": "c683befc",
   "metadata": {},
   "source": [
    "### Goldstein-Price Function"
   ]
  },
  {
   "cell_type": "code",
   "execution_count": null,
   "id": "42b13d14",
   "metadata": {},
   "outputs": [],
   "source": []
  },
  {
   "cell_type": "code",
   "execution_count": null,
   "id": "303bf955",
   "metadata": {},
   "outputs": [],
   "source": []
  },
  {
   "cell_type": "code",
   "execution_count": null,
   "id": "f70ce0bb",
   "metadata": {},
   "outputs": [],
   "source": []
  },
  {
   "cell_type": "code",
   "execution_count": null,
   "id": "9b5345fc",
   "metadata": {},
   "outputs": [],
   "source": []
  },
  {
   "cell_type": "code",
   "execution_count": null,
   "id": "89e132d6",
   "metadata": {},
   "outputs": [],
   "source": []
  },
  {
   "cell_type": "markdown",
   "id": "9af6e43a",
   "metadata": {},
   "source": [
    "### Three-Hump Camel Function"
   ]
  },
  {
   "cell_type": "code",
   "execution_count": null,
   "id": "960c4696",
   "metadata": {},
   "outputs": [],
   "source": []
  },
  {
   "cell_type": "code",
   "execution_count": null,
   "id": "571de32f",
   "metadata": {},
   "outputs": [],
   "source": []
  },
  {
   "cell_type": "code",
   "execution_count": null,
   "id": "428c8b7b",
   "metadata": {},
   "outputs": [],
   "source": []
  },
  {
   "cell_type": "code",
   "execution_count": null,
   "id": "273d851e",
   "metadata": {},
   "outputs": [],
   "source": []
  },
  {
   "cell_type": "code",
   "execution_count": null,
   "id": "3ee5902e",
   "metadata": {},
   "outputs": [],
   "source": []
  },
  {
   "cell_type": "markdown",
   "id": "b4cdf9c9-6cb2-4eff-a5c3-211784331ec5",
   "metadata": {},
   "source": [
    "Task 3. For each function, plot the trajectory of the algorithm using four randomly generated starting points of your choice."
   ]
  },
  {
   "cell_type": "markdown",
   "id": "4dcf5edb",
   "metadata": {},
   "source": [
    "### Beale Function"
   ]
  },
  {
   "cell_type": "markdown",
   "id": "076d301b",
   "metadata": {},
   "source": [
    "### Booth Function"
   ]
  },
  {
   "cell_type": "markdown",
   "id": "14385634",
   "metadata": {},
   "source": [
    "### Matyas Function"
   ]
  },
  {
   "cell_type": "markdown",
   "id": "c8909c0b",
   "metadata": {},
   "source": [
    "### Himmelblau Function"
   ]
  },
  {
   "cell_type": "markdown",
   "id": "0274f2f0",
   "metadata": {},
   "source": [
    "### Mccormick Function"
   ]
  },
  {
   "cell_type": "markdown",
   "id": "cce6a0b5",
   "metadata": {},
   "source": [
    "### Goldstein-Price Function"
   ]
  },
  {
   "cell_type": "markdown",
   "id": "066cc1c8",
   "metadata": {},
   "source": [
    "### Three-Hump Camel Function"
   ]
  },
  {
   "cell_type": "markdown",
   "id": "6a3c1c52-21ef-4bb2-8f6d-f51d53dececc",
   "metadata": {},
   "source": [
    "## Adaptive Moment Estimation (Adam)"
   ]
  },
  {
   "cell_type": "code",
   "execution_count": null,
   "id": "73bed294-c966-45ef-8dbc-a28be94d5a30",
   "metadata": {},
   "outputs": [],
   "source": [
    "### Implement the RMSProp here\n",
    "function adam()\n",
    "    nothing\n",
    "end"
   ]
  },
  {
   "cell_type": "markdown",
   "id": "27409729-ae61-48eb-8963-0f275dd58905",
   "metadata": {},
   "source": [
    "Task 1. Plot the Contour of each considered function"
   ]
  },
  {
   "cell_type": "code",
   "execution_count": null,
   "id": "a31397fe-b335-42f9-850b-69b6b0d2ba98",
   "metadata": {},
   "outputs": [],
   "source": [
    "start_1 = [10,-10];\n",
    "start_2 = [-4, 4];\n",
    "start_3 = [0, 0];\n",
    "start_4 = [5,5];"
   ]
  },
  {
   "cell_type": "markdown",
   "id": "1b5d8ea7-4358-4198-bdf1-ad1273b86da0",
   "metadata": {},
   "source": [
    "Task 2. For each function, determine the trajectory of the algorithm given the following starting points"
   ]
  },
  {
   "cell_type": "markdown",
   "id": "1fc41d14-59c7-4c60-8336-c69934122c0c",
   "metadata": {},
   "source": []
  },
  {
   "cell_type": "markdown",
   "id": "03bfc830-b357-428e-b34d-3f9ff3837ded",
   "metadata": {},
   "source": [
    "Task 3. For each function, plot the trajectory of the algorithm using four randomly generated starting points of your choice."
   ]
  },
  {
   "cell_type": "code",
   "execution_count": null,
   "id": "8a7e658d-e76b-4fd0-9077-28615d310d23",
   "metadata": {},
   "outputs": [],
   "source": []
  }
 ],
 "metadata": {
  "kernelspec": {
   "display_name": "Julia 1.9.3",
   "language": "julia",
   "name": "julia-1.9"
  },
  "language_info": {
   "file_extension": ".jl",
   "mimetype": "application/julia",
   "name": "julia",
   "version": "1.9.3"
  }
 },
 "nbformat": 4,
 "nbformat_minor": 5
}
